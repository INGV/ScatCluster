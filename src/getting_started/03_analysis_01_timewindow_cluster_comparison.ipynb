{
 "cells": [
  {
   "attachments": {},
   "cell_type": "markdown",
   "id": "d1b6353e",
   "metadata": {},
   "source": [
    "# Hierarchical comparison of time-window clustering"
   ]
  },
  {
   "cell_type": "code",
   "execution_count": null,
   "id": "7bec81fb-0ae0-43ed-adb6-70745fc808ac",
   "metadata": {},
   "outputs": [],
   "source": [
    "from scatcluster.analysis.crosstab import SSNCrossTabAnalysis"
   ]
  },
  {
   "cell_type": "code",
   "execution_count": null,
   "id": "0392e1b9",
   "metadata": {},
   "outputs": [],
   "source": [
    "SSNCTA = SSNCrossTabAnalysis(\n",
    "    data_savepath='',\n",
    "    data_network=\"ET\",\n",
    "    data_station='SOE0' ,\n",
    "    network_sampling_rate_banks_pooling = '50_4_4_2_7_1_1_avg',\n",
    "    ica_number=10)"
   ]
  },
  {
   "attachments": {},
   "cell_type": "markdown",
   "id": "e72f79ab-d59a-4938-8209-821d444bf1b4",
   "metadata": {},
   "source": [
    "# Crosstabs"
   ]
  },
  {
   "cell_type": "code",
   "execution_count": null,
   "id": "9c743346-e752-49f1-bfa9-bff14ac8c692",
   "metadata": {},
   "outputs": [],
   "source": [
    "SSNCTA.plot_clustering_crosstab(cluster_1 = 3600, num_clusters_1 = 10,\n",
    "                                cluster_2 = 1800, num_clusters_2 = 10)"
   ]
  },
  {
   "attachments": {},
   "cell_type": "markdown",
   "id": "9eb8bb5b-abdb-4831-b9ab-ea40f66a389f",
   "metadata": {},
   "source": [
    "# Crosstabs with Dendrogram"
   ]
  },
  {
   "cell_type": "code",
   "execution_count": null,
   "id": "6098dbae-ef70-44ca-a6c5-960e487141ca",
   "metadata": {},
   "outputs": [],
   "source": [
    "SSNCTA.plot_crosstab_dendrograms(cluster_1 = 3600, num_clusters_1 = 10,\n",
    "                                 cluster_2 = 1800, num_clusters_2 = 10\n",
    "                                 )"
   ]
  }
 ],
 "metadata": {
  "kernelspec": {
   "display_name": "some-ssn",
   "language": "python",
   "name": "python3"
  },
  "language_info": {
   "codemirror_mode": {
    "name": "ipython",
    "version": 3
   },
   "file_extension": ".py",
   "mimetype": "text/x-python",
   "name": "python",
   "nbconvert_exporter": "python",
   "pygments_lexer": "ipython3",
   "version": "3.9.7"
  },
  "vscode": {
   "interpreter": {
    "hash": "1305ca461d7f130272e4a35211fc93018ee6c54468aa9fec4cabbbff6baade31"
   }
  }
 },
 "nbformat": 4,
 "nbformat_minor": 5
}
