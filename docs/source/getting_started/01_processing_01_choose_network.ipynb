{
 "cells": [
  {
   "cell_type": "markdown",
   "id": "d964abf9-18f1-4478-ba03-84cf77050555",
   "metadata": {},
   "source": [
    "# Building ScatCluster Network"
   ]
  },
  {
   "cell_type": "code",
   "execution_count": 1,
   "id": "7bec81fb-0ae0-43ed-adb6-70745fc808ac",
   "metadata": {
    "tags": []
   },
   "outputs": [],
   "source": [
    "data_savepath='./network_samples/'"
   ]
  },
  {
   "cell_type": "code",
   "execution_count": 2,
   "id": "e8ac544a",
   "metadata": {
    "tags": []
   },
   "outputs": [],
   "source": [
    "from scatcluster.scatcluster import ScatCluster\n",
    "from ipywidgets import interact\n",
    "import os"
   ]
  },
  {
   "cell_type": "code",
   "execution_count": 3,
   "id": "71627805-c2e6-4848-87e7-2db73cb0316d",
   "metadata": {
    "tags": []
   },
   "outputs": [],
   "source": [
    "def build_default_SC(data_savepath,\n",
    "                     network_segment = 120, network_step = 120, network_sampling_rate = 100, \n",
    "                     order_1_octaves = 4, order_1_resolution = 4, order_1_quality = 2, \n",
    "                     order_2_octaves = 7, order_2_resolution = 1, order_2_quality = 1):\n",
    "    # Network Settings\n",
    "    SC = ScatCluster(\n",
    "        network_segment = network_segment,\n",
    "        network_step = network_step,\n",
    "        network_sampling_rate = network_sampling_rate,\n",
    "        network_banks = (\n",
    "            {\"octaves\": order_1_octaves, \"resolution\": order_1_resolution, \"quality\": order_1_quality},\n",
    "            {\"octaves\": order_2_octaves, \"resolution\": order_2_resolution, \"quality\": order_2_quality}\n",
    "        ), \n",
    "        data_savepath=data_savepath, data_client_path='', data_network='', data_station='', data_location='', \n",
    "        data_channel='', data_sample_starttime='', data_sample_endtime='', data_starttime='', data_endtime=''\n",
    "    )\n",
    "    return SC\n"
   ]
  },
  {
   "cell_type": "code",
   "execution_count": 4,
   "id": "387b6323-34b8-4221-bfdb-a123b09ae2a1",
   "metadata": {
    "tags": []
   },
   "outputs": [],
   "source": [
    "def interactive_plot(data_savepath,\n",
    "                     network_segment = 120, network_step = 120, network_sampling_rate = 100, \n",
    "                     order_1_octaves = 4, order_1_resolution = 4, order_1_quality = 2, \n",
    "                     order_2_octaves = 7, order_2_resolution = 1, order_2_quality = 1):\n",
    "    SC = build_default_SC(data_savepath,\n",
    "                          network_segment, network_step, network_sampling_rate, \n",
    "                          order_1_octaves, order_1_resolution, order_1_quality, \n",
    "                          order_2_octaves, order_2_resolution, order_2_quality)\n",
    "    if not os.path.exists(os.path.join( data_savepath, 'networks/')):\n",
    "        os.mkdir(os.path.join( data_savepath, 'networks/'))\n",
    "    SC.network_build_scatcluster()\n",
    "    SC.plot_network_filter_banks(savefig=False)"
   ]
  },
  {
   "cell_type": "code",
   "execution_count": 7,
   "id": "e109d1fc-2bdd-4715-8d09-fc8cb05c738e",
   "metadata": {
    "tags": []
   },
   "outputs": [
    {
     "data": {
      "application/vnd.jupyter.widget-view+json": {
       "model_id": "67c6ff83178b45f7b242659d1c2a0bfc",
       "version_major": 2,
       "version_minor": 0
      },
      "text/plain": [
       "interactive(children=(Text(value='/home/jovyan/shared/users/zerafa/data/network_samples/', description='data_s…"
      ]
     },
     "metadata": {},
     "output_type": "display_data"
    },
    {
     "data": {
      "text/plain": [
       "<function __main__.interactive_plot(data_savepath, network_segment=120, network_step=120, network_sampling_rate=100, order_1_octaves=4, order_1_resolution=4, order_1_quality=2, order_2_octaves=7, order_2_resolution=1, order_2_quality=1)>"
      ]
     },
     "execution_count": 7,
     "metadata": {},
     "output_type": "execute_result"
    }
   ],
   "source": [
    "interact(interactive_plot, data_savepath=data_savepath,\n",
    "         network_segment=(60,240,60), network_step=(60,240,60), network_sampling_rate=(50,250,5), \n",
    "         order_1_octaves=(1,12,1), order_1_resolution=(1,12,1), order_1_quality=(1,12,1), \n",
    "         order_2_octaves=(1,12,1), order_2_resolution=(1,12,1), order_2_quality=(1,12,1))"
   ]
  },
  {
   "cell_type": "code",
   "execution_count": null,
   "id": "1c5a8c95-527b-4147-893f-e16dc55af8ef",
   "metadata": {},
   "outputs": [],
   "source": []
  }
 ],
 "metadata": {
  "kernelspec": {
   "display_name": "scatcluster",
   "language": "python",
   "name": "scatcluster"
  },
  "language_info": {
   "codemirror_mode": {
    "name": "ipython",
    "version": 3
   },
   "file_extension": ".py",
   "mimetype": "text/x-python",
   "name": "python",
   "nbconvert_exporter": "python",
   "pygments_lexer": "ipython3",
   "version": "3.10.0"
  },
  "vscode": {
   "interpreter": {
    "hash": "1305ca461d7f130272e4a35211fc93018ee6c54468aa9fec4cabbbff6baade31"
   }
  }
 },
 "nbformat": 4,
 "nbformat_minor": 5
}
