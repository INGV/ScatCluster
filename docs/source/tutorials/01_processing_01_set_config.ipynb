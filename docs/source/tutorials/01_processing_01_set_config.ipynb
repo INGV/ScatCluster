{
 "cells": [
  {
   "attachments": {},
   "cell_type": "markdown",
   "id": "f4811c29-bb05-49d2-9710-c9172314c96f",
   "metadata": {},
   "source": [
    "# INGV ScatCluster\n",
    "A workflow for clustering continuous time series with a deep scattering network. "
   ]
  },
  {
   "attachments": {},
   "cell_type": "markdown",
   "id": "66494e19-1b02-4bc4-8431-bf01ae368c6b",
   "metadata": {},
   "source": [
    "## Set Experiment Parameters"
   ]
  },
  {
   "cell_type": "code",
   "execution_count": 16,
   "id": "7bec81fb-0ae0-43ed-adb6-70745fc808ac",
   "metadata": {},
   "outputs": [],
   "source": [
    "# Location to store the results of the experimentation. Please ensure that this directory exists \n",
    "# and the path terminates with a \"/\"\n",
    "data_savepath='/home/jovyan/shared/users/zerafa/data/sds.chris/scatcluster_workflow/'\n",
    "\n",
    "# Data Parameters\n",
    "data_client_path =\"/home/jovyan/data/Sardinia50Hz/\"\n",
    "data_network=\"MN\"\n",
    "data_station='AQU' \n",
    "data_location='*'\n",
    "data_channel='*'\n",
    "\n",
    "# Set this to be a day for the duration of interest. It will be used to plot a sample of the transform\n",
    "# to confirm the parameterization of the Scattering Network is correct.\n",
    "data_sample_starttime = \"2022-01-01T00:00\"\n",
    "data_sample_endtime = \"2022-01-01T02:00\"\n",
    "\n",
    "# This is the full duration of the analysis to be conducted\n",
    "data_starttime = \"2022-01-01T00:00\"\n",
    "data_endtime = \"2022-01-03T00:00\"\n",
    "\n",
    "# Exclude days from the analysis\n",
    "data_exclude_days = []\n",
    "# data_exclude_days = ['2021-01-05T00:00', '2021-01-15T00:00']\n",
    "\n",
    "# Network Settings\n",
    "# Window size in SECONDS used to chunk the data into pieces before passing it to the scattering network.\n",
    "# Recommendation is to 3600 windows. This is equivalent to 1 hour. Finer windowing is allowed, at an \n",
    "# increase cost of computation.\n",
    "network_segment = 3600\n",
    "# Sliding duration between two consecutive windows. Recommendation is 0 overlap as this might cause \n",
    "# multiple events within the same window.\n",
    "network_step = network_segment\n",
    "# Sampling frequency of the data\n",
    "network_sampling_rate = 100\n",
    "\n",
    "# Network parameterization\n",
    "# `OCTAVES`    indicates the number of octaves per layer. This value can be a tuple where the number of \n",
    "#              elements defines the number of layers. \n",
    "# `RESOLUTION` represents the number of wavelets per octave (must be of the size of `OCTAVES`)\n",
    "# `QUALITY`    represents the quality factor of the mother wavelet (must be of the size of `OCTAVES`)\n",
    "#\n",
    "# HINTS:\n",
    "# The first layer filters should be very dense and they should have an overlap of at least 50% between frequencies\n",
    "# The second layer should be sparse, with no overlap between frequencies.\n",
    "network_banks = (\n",
    "    {\"octaves\": 4, \"resolution\": 4, \"quality\": 2},\n",
    "    {\"octaves\": 7, \"resolution\": 1, \"quality\": 1}\n",
    ")\n",
    "\n",
    "# The summarization of the scattering coefficients\n",
    "network_pooling = \"avg\"\n",
    "\n",
    "# ICA Reduction\n",
    "ica_overwrite_previous_models = False\n",
    "ica_ev_limit=0.99\n",
    "ica_min_ICAs=9\n",
    "ica_max_ICAs=10\n",
    "\n",
    "# Clustering of ICA contributions\n",
    "# Number of clusters splits. (\"single\", \"centroid\", \"median\", \"ward\"). \n",
    "# See documentation for fastcluster (http://danifold.net/fastcluster.html)\n",
    "dendrogram_method = \"ward\"\n",
    "# Time zone for local time histogram.\n",
    "dendrogram_time_zone = \"Europe/Rome\"\n",
    "\n",
    "# Waveform plotting\n",
    "# Number of waveforms to show\n",
    "waveforms_n_samples = 5"
   ]
  },
  {
   "attachments": {},
   "cell_type": "markdown",
   "id": "3a8d56b0-3729-4eb8-a500-1a51ea03acc3",
   "metadata": {},
   "source": [
    "# Initiate ScatCluster"
   ]
  },
  {
   "cell_type": "code",
   "execution_count": 17,
   "id": "e8ac544a",
   "metadata": {},
   "outputs": [],
   "source": [
    "from scatcluster import ScatCluster"
   ]
  },
  {
   "cell_type": "code",
   "execution_count": 18,
   "id": "b38c8e07",
   "metadata": {},
   "outputs": [],
   "source": [
    "SC = ScatCluster(\n",
    "    data_savepath = data_savepath,\n",
    "    data_client_path = data_client_path,\n",
    "    data_network = data_network,\n",
    "    data_station = data_station,\n",
    "    data_location = data_location,\n",
    "    data_channel = data_channel,\n",
    "    data_sample_starttime = data_sample_starttime,\n",
    "    data_sample_endtime = data_sample_endtime,\n",
    "    data_starttime = data_starttime,\n",
    "    data_endtime = data_endtime,\n",
    "    data_exclude_days = data_exclude_days,\n",
    "    network_segment = network_segment,\n",
    "    network_step = network_step,\n",
    "    network_sampling_rate = network_sampling_rate,\n",
    "    network_banks = network_banks,\n",
    "    network_pooling = network_pooling,\n",
    "    ica_ev_limit = ica_ev_limit,\n",
    "    ica_min_ICAs = ica_min_ICAs,\n",
    "    ica_max_ICAs = ica_max_ICAs,\n",
    "    ica_overwrite_previous_models = ica_overwrite_previous_models,\n",
    "    dendrogram_method = dendrogram_method,\n",
    "    waveforms_n_samples = waveforms_n_samples\n",
    ")"
   ]
  },
  {
   "cell_type": "code",
   "execution_count": 19,
   "id": "cd824260",
   "metadata": {},
   "outputs": [
    {
     "name": "stdout",
     "output_type": "stream",
     "text": [
      "Main directory /Users/christopher.zerafa/Downloads/scatcluster_run/ already exists. \n",
      "\n",
      "Directory /Users/christopher.zerafa/Downloads/scatcluster_run/scatterings already exists.\n",
      "Directory /Users/christopher.zerafa/Downloads/scatcluster_run/figures already exists.\n",
      "Directory /Users/christopher.zerafa/Downloads/scatcluster_run/networks already exists.\n",
      "Directory /Users/christopher.zerafa/Downloads/scatcluster_run/ICA already exists.\n",
      "Directory /Users/christopher.zerafa/Downloads/scatcluster_run/clustering already exists.\n",
      "Directory /Users/christopher.zerafa/Downloads/scatcluster_run/data already exists.\n",
      "Directory /Users/christopher.zerafa/Downloads/scatcluster_run/config already exists.\n"
     ]
    }
   ],
   "source": [
    "SC.prepare_directory_structure()"
   ]
  },
  {
   "cell_type": "code",
   "execution_count": 20,
   "id": "3c4a9244",
   "metadata": {},
   "outputs": [
    {
     "name": "stdout",
     "output_type": "stream",
     "text": [
      "SSN config stored at \"/Users/christopher.zerafa/Downloads/scatcluster_run/config/MN_AQU_*_3600_3600_100_4_4_2_7_1_1_avg.json\"\n"
     ]
    }
   ],
   "source": [
    "SC.config_store()"
   ]
  },
  {
   "cell_type": "code",
   "execution_count": null,
   "id": "6ce28b7b",
   "metadata": {},
   "outputs": [],
   "source": []
  }
 ],
 "metadata": {
  "kernelspec": {
   "display_name": "some-ssn",
   "language": "python",
   "name": "python3"
  },
  "language_info": {
   "codemirror_mode": {
    "name": "ipython",
    "version": 3
   },
   "file_extension": ".py",
   "mimetype": "text/x-python",
   "name": "python",
   "nbconvert_exporter": "python",
   "pygments_lexer": "ipython3",
   "version": "3.9.7"
  },
  "vscode": {
   "interpreter": {
    "hash": "1305ca461d7f130272e4a35211fc93018ee6c54468aa9fec4cabbbff6baade31"
   }
  }
 },
 "nbformat": 4,
 "nbformat_minor": 5
}
